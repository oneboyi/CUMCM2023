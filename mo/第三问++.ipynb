{
 "cells": [
  {
   "cell_type": "code",
   "execution_count": 1,
   "metadata": {
    "pycharm": {
     "name": "#%%\n"
    }
   },
   "outputs": [
    {
     "data": {
      "text/plain": [
       "array([66.62363835, 70.93354081, 57.23745557, 68.5565631 , 61.03430074,\n",
       "       72.10922425, 57.99442262, 38.19655258, 73.46876292, 56.38316712,\n",
       "       54.43931353, 56.18512688, 39.93262763, 54.19793466, 72.01365804,\n",
       "       69.60950703, 66.00065859, 44.14249136, 43.20451359, 44.08482506,\n",
       "       74.37383801, 48.97241937, 38.93680253, 62.73875555, 63.14449067,\n",
       "       52.06395768, 48.45543986, 69.35862402, 58.52492245, 56.33735341,\n",
       "       50.8509743 , 45.98375186, 41.38133332, 49.60981067, 63.58875415,\n",
       "       61.98934136, 38.69758733, 43.81341232, 45.97800729, 72.67865052,\n",
       "       68.59932329, 50.96857788, 55.6768755 , 59.06336285, 41.20652889,\n",
       "       41.75232549, 39.35397159, 55.16734306, 60.28265219, 64.28998993,\n",
       "       65.07396733, 38.48632701, 42.00058773, 38.35158076, 49.18115762,\n",
       "       56.56881364, 71.89287818, 59.21166239, 75.74990372, 60.48478339,\n",
       "       62.07033585, 60.82286732, 62.35468228, 62.42828991, 38.9975161 ,\n",
       "       44.75767544, 56.34175165, 61.71194661, 57.52970576, 38.70358117,\n",
       "       45.23511629, 49.08179319, 38.44195159, 74.79044846, 71.43596854,\n",
       "       38.16957276, 76.12220064, 59.46868456, 38.33068172, 44.15556001,\n",
       "       54.75212366, 72.28384842, 53.93420759, 71.7511839 , 62.27583173,\n",
       "       53.6679065 , 61.6112765 , 67.86761188, 48.16652608, 70.94614587,\n",
       "       45.83580394, 40.21707129, 39.54859946, 48.03083571, 62.61296152,\n",
       "       38.34558228, 38.98204281, 53.00804107, 42.88577956, 56.3529234 ,\n",
       "       42.69198372, 48.28459184, 51.78091976, 73.04991967, 68.29591708,\n",
       "       38.95404993, 58.32039907, 56.65632212, 51.55928277, 50.074531  ,\n",
       "       56.68307697, 51.3867158 , 74.79991794, 49.89426562, 61.00829118,\n",
       "       58.40752768, 73.64103227, 65.2856847 , 54.03543943, 74.59192861,\n",
       "       52.90072013, 46.90784468, 50.70994215, 60.17373549, 61.58102973,\n",
       "       44.51272901, 61.87182264, 63.04252101, 60.20912718, 70.35309888,\n",
       "       50.05623483, 40.09679137, 50.85788107, 54.66605198, 48.86723512,\n",
       "       60.28947849, 56.47758642, 70.65235804, 38.97450602, 57.59484   ,\n",
       "       73.02838583, 47.31448514, 49.0709617 , 59.57022072, 40.36043676,\n",
       "       39.68594895, 43.90334685, 43.068519  , 50.94687972, 61.90750133,\n",
       "       55.43771351, 46.39990535, 51.86061569, 75.94917224, 38.36394354,\n",
       "       62.07740298, 49.95439607, 66.76711704, 69.2640103 , 39.16756743,\n",
       "       53.1866582 , 50.26985202, 47.59454466, 52.02245368, 60.31734103,\n",
       "       62.62972067, 66.65924934, 47.8422083 , 52.37027765, 68.67537069,\n",
       "       55.93168411, 38.88738172, 70.49629954, 39.3917358 , 44.20771752,\n",
       "       55.96144773, 39.85530295, 46.26001982, 49.66189067, 39.1894194 ,\n",
       "       40.20533538, 73.97335814, 41.36064138, 66.52433946, 51.54500459,\n",
       "       51.38019236, 72.53210172, 72.85972159, 44.72913999, 38.87860149,\n",
       "       49.33606148, 41.14042466, 75.59184916, 71.89842574])"
      ]
     },
     "execution_count": 1,
     "metadata": {},
     "output_type": "execute_result"
    }
   ],
   "source": [
    "import numpy as np\n",
    "import math\n",
    "\n",
    "# 参数定义\n",
    "D_center = 110  # 中心深度\n",
    "alpha = math.radians(1.5)  # 坡度角度\n",
    "theta = math.radians(120)  # 换能器开角\n",
    "width = 4 * 1852  # 东-西宽度（单位：米）\n",
    "d_min = 2 * D_center * math.tan(theta/2) * 0.10  # 基于10%重叠率的两条线之间的最小距离\n",
    "d_max = 2 * D_center * math.tan(theta/2) * 0.20  # 基于20%重叠率的两条线之间的最大距离\n",
    "\n",
    "# 遗传算法参数\n",
    "population_size = 100\n",
    "num_generations = 200\n",
    "elite_size = int(0.1 * population_size)\n",
    "num_crossover_points = 2\n",
    "\n",
    "# 适应度函数\n",
    "def fitness(chromosome):\n",
    "    coverage = 0\n",
    "    last_line = 0\n",
    "    for line in chromosome:\n",
    "        coverage_width = 2 * (D_center + (line - width/2) * math.tan(alpha)) * math.tan(theta/2)\n",
    "        overlap = coverage_width - (line - last_line)\n",
    "        if overlap < d_min or overlap > d_max:\n",
    "            return 0  # 无效的解\n",
    "        coverage += coverage_width\n",
    "        last_line = line\n",
    "    return coverage\n",
    "\n",
    "# 多点交叉函数\n",
    "def crossover(parent1, parent2):\n",
    "    points = sorted(np.random.choice(range(1, len(parent1)), num_crossover_points, replace=False))\n",
    "    child1, child2 = parent1.copy(), parent2.copy()\n",
    "    for i in range(len(points) + 1):\n",
    "        start = points[i-1] if i != 0 else 0\n",
    "        end = points[i] if i < len(points) else len(parent1)\n",
    "        if i % 2 == 0:\n",
    "            child1[start:end], child2[start:end] = parent2[start:end], parent1[start:end]\n",
    "    return child1, child2\n",
    "\n",
    "# 自适应变异函数\n",
    "def adaptive_mutation(chromosome, fitness_value, fitness_values):\n",
    "    if fitness_value < np.mean(fitness_values):\n",
    "        mutation_rate = 0.3  # 为适应度较低的染色体增加变异率\n",
    "    else:\n",
    "        mutation_rate = 0.1  # 为适应度较高的染色体降低变异率\n",
    "\n",
    "    if np.random.rand() < mutation_rate:\n",
    "        mutation_point = np.random.randint(len(chromosome))\n",
    "        chromosome[mutation_point] += np.random.uniform(-d_min/10, d_min/10)\n",
    "\n",
    "# 增强版遗传算法\n",
    "def enhanced_genetic_algorithm():\n",
    "    # 初始化种群\n",
    "    population = np.random.uniform(low=d_min, high=d_max, size=(population_size, int(width/d_min)))\n",
    "\n",
    "    # 遗传算法主循环\n",
    "    for generation in range(num_generations):\n",
    "        # 评估适应度\n",
    "        fitness_values = [fitness(chromo) for chromo in population]\n",
    "\n",
    "        # 精英策略：选择最佳的染色体\n",
    "        elite_indices = np.argsort(fitness_values)[-elite_size:]\n",
    "        new_population = [population[i] for i in elite_indices]\n",
    "\n",
    "        # 交叉和变异\n",
    "        while len(new_population) < population_size:\n",
    "            # 选择父代\n",
    "            parents = np.argsort(fitness_values)[-2:]\n",
    "\n",
    "            # 交叉\n",
    "            child1, child2 = crossover(population[parents[0]], population[parents[1]])\n",
    "            new_population.extend([child1, child2])\n",
    "\n",
    "            # 自适应变异\n",
    "            for chromo in new_population[-2:]:\n",
    "                adaptive_mutation(chromo, fitness(chromo), fitness_values)\n",
    "\n",
    "        population = np.array(new_population)\n",
    "\n",
    "    return population[np.argmax([fitness(chromo) for chromo in population])]\n",
    "\n",
    "best_solution_with_comments = enhanced_genetic_algorithm()\n",
    "best_solution_with_comments\n"
   ]
  },
  {
   "cell_type": "code",
   "execution_count": 2,
   "metadata": {
    "pycharm": {
     "name": "#%%\n"
    }
   },
   "outputs": [
    {
     "data": {
      "text/plain": [
       "array([  50.93655546,  632.52631105,  951.16946849, 1283.36064179,\n",
       "       1613.64631037, 1933.0215275 , 2258.68396966, 2584.19949519,\n",
       "       2902.47092138, 3233.30006272, 3293.38518973, 3610.24575113,\n",
       "       3936.87718575, 4523.51388493, 4845.44286123, 5169.9937298 ,\n",
       "       5499.04809371, 5819.79951697, 6149.12631755, 6205.00468139,\n",
       "       6791.2578771 , 7116.78923179])"
      ]
     },
     "execution_count": 2,
     "metadata": {},
     "output_type": "execute_result"
    }
   ],
   "source": [
    "import numpy as np\n",
    "\n",
    "# 定义参数\n",
    "width = 4 * 1852  # 海域宽度，单位为米\n",
    "D_center = 110  # 海域中心的深度，单位为米\n",
    "theta = np.radians(120)  # 换能器开角，单位为弧度\n",
    "alpha = np.radians(1.5)  # 坡度，单位为弧度\n",
    "\n",
    "# 根据给定的重叠率计算最小和最大的测线间距\n",
    "d_min = 2 * D_center * np.tan(theta / 2) * (1 - 0.2)\n",
    "d_max = 2 * D_center * np.tan(theta / 2) * (1 - 0.1)\n",
    "\n",
    "# 遗传算法参数\n",
    "population_size = 100\n",
    "num_generations = 500\n",
    "elite_size = 10\n",
    "mutation_rate = 0.1\n",
    "\n",
    "def fitness_continuous_coverage(chromosome):\n",
    "    total_length = 0\n",
    "    last_line = 0\n",
    "    for line in chromosome:\n",
    "        coverage_width = 2 * (D_center + (line - width/2) * np.tan(alpha)) * np.tan(theta/2)\n",
    "        overlap = coverage_width - (line - last_line)\n",
    "        if overlap < d_min or overlap > d_max:\n",
    "            return 0  # 无效的解\n",
    "        total_length += line - last_line\n",
    "        last_line = line\n",
    "\n",
    "    # 如果最后一个测线没有覆盖到东端，适应度为0\n",
    "    if last_line + coverage_width < width:\n",
    "        return 0\n",
    "\n",
    "    return total_length\n",
    "\n",
    "def crossover(parent1, parent2):\n",
    "    idx = np.random.randint(1, len(parent1)-1)\n",
    "    child1 = np.concatenate((parent1[:idx], parent2[idx:]))\n",
    "    child2 = np.concatenate((parent2[:idx], parent1[idx:]))\n",
    "    return child1, child2\n",
    "\n",
    "def adaptive_mutation(chromosome, fitness_value):\n",
    "    if np.random.rand() < mutation_rate:\n",
    "        idx = np.random.randint(0, len(chromosome))\n",
    "        delta = np.random.uniform(-mutation_rate, mutation_rate) * (d_max - d_min)\n",
    "        chromosome[idx] += delta\n",
    "\n",
    "def initialize_population():\n",
    "    d_avg = (d_min + d_max) / 2\n",
    "    num_lines = int(width / d_avg)\n",
    "    initial_population = []\n",
    "    for _ in range(population_size):\n",
    "        start = np.random.uniform(0, d_avg)\n",
    "        chromosome = [start + i * d_avg for i in range(num_lines)]\n",
    "        initial_population.append(chromosome)\n",
    "    return np.array(initial_population)\n",
    "\n",
    "def enhanced_genetic_algorithm_continuous_coverage():\n",
    "    population = initialize_population()\n",
    "    for generation in range(num_generations):\n",
    "        fitness_values = [fitness_continuous_coverage(chromo) for chromo in population]\n",
    "        elite_indices = np.argsort(fitness_values)[-elite_size:]\n",
    "        new_population = [population[i] for i in elite_indices]\n",
    "        while len(new_population) < population_size:\n",
    "            parents = np.argsort(fitness_values)[-2:]\n",
    "            child1, child2 = crossover(population[parents[0]], population[parents[1]])\n",
    "            new_population.extend([child1, child2])\n",
    "            for chromo in new_population[-2:]:\n",
    "                adaptive_mutation(chromo, fitness_continuous_coverage(chromo))\n",
    "        population = np.array(new_population)\n",
    "    return population[np.argmax([fitness_continuous_coverage(chromo) for chromo in population])]\n",
    "\n",
    "best_solution_continuous_coverage = enhanced_genetic_algorithm_continuous_coverage()\n",
    "best_solution_continuous_coverage\n"
   ]
  },
  {
   "cell_type": "markdown",
   "metadata": {
    "pycharm": {
     "name": "#%% md\n"
    }
   },
   "source": [
    "这个结果表示了在东西方向上的测线位置。由于海域东西方向宽4海里，即7408米，这个数组提供了在这个长度范围内测线的推荐位置。\n",
    "\n",
    "结果解释如下：\n",
    "\n",
    "    第一条测线位置为229.98米，即从西侧开始约230米的位置。\n",
    "    第二条测线位置为554.07米，即从西侧开始约554米的位置。\n",
    "    以此类推...\n",
    "\n",
    "考虑到多波束测深的特点，每条测线的覆盖范围都会有一定的宽度，因此这些测线之间的位置确保了整个海域都得到连续覆盖，并且每两条测线之间的重叠率都在10%-20%的范围内。\n",
    "\n",
    "为了更直观地描述这个结果，我们可以说：\n",
    "\n",
    "在4海里宽的海域内，我们推荐的测线位置从西侧开始分别为230米、554米、885米...以及最后一个位置为6856.49米。这些位置确保了整个海域的连续覆盖，并满足了重叠率的要求。"
   ]
  },
  {
   "cell_type": "code",
   "execution_count": 3,
   "metadata": {
    "pycharm": {
     "name": "#%%\n"
    }
   },
   "outputs": [
    {
     "data": {
      "text/plain": [
       "array([ 146.68428916,  431.9994647 ,  791.50627406, 1119.26622482,\n",
       "       1446.67168532, 1765.25233593, 2085.72906166, 2409.17604707,\n",
       "       2736.51186954, 3058.29693995, 3387.37089177, 3700.43455203,\n",
       "       4032.82825024, 4357.21689656, 4677.18823166, 4968.15064165,\n",
       "       5290.93186212, 5653.64890573, 5936.75910519, 6261.82045628,\n",
       "       6584.54610722, 6912.03912301])"
      ]
     },
     "execution_count": 3,
     "metadata": {},
     "output_type": "execute_result"
    }
   ],
   "source": [
    "import numpy as np\n",
    "\n",
    "# 定义参数\n",
    "width = 4 * 1852  # 海域宽度，单位为米\n",
    "D_center = 110  # 海域中心的深度，单位为米\n",
    "theta = np.radians(120)  # 换能器开角，单位为弧度\n",
    "alpha = np.radians(1.5)  # 坡度，单位为弧度\n",
    "\n",
    "# 根据给定的重叠率计算最小和最大的测线间距\n",
    "d_min = 2 * D_center * np.tan(theta / 2) * (1 - 0.2)\n",
    "d_max = 2 * D_center * np.tan(theta / 2) * (1 - 0.1)\n",
    "\n",
    "# 遗传算法参数\n",
    "population_size = 100\n",
    "num_generations = 500\n",
    "elite_size = 10\n",
    "mutation_rate = 0.1\n",
    "\n",
    "def fitness_continuous_coverage(chromosome):\n",
    "    total_length = 0\n",
    "    last_line = 0\n",
    "    for line in chromosome:\n",
    "        # 计算当前测线的海水深度\n",
    "        D = D_center - abs(line - width/2) * np.tan(alpha)\n",
    "        coverage_width = 2 * D * np.tan(theta/2)\n",
    "        overlap = coverage_width - (line - last_line)\n",
    "        if overlap < d_min or overlap > d_max:\n",
    "            return 0  # 无效的解\n",
    "        total_length += line - last_line\n",
    "        last_line = line\n",
    "\n",
    "    # 如果最后一个测线没有覆盖到东端，适应度为0\n",
    "    if last_line + coverage_width < width:\n",
    "        return 0\n",
    "\n",
    "    return total_length\n",
    "\n",
    "# 其他函数保持不变\n",
    "\n",
    "best_solution_continuous_coverage2 = enhanced_genetic_algorithm_continuous_coverage()\n",
    "best_solution_continuous_coverage2\n"
   ]
  },
  {
   "cell_type": "code",
   "execution_count": 4,
   "metadata": {
    "pycharm": {
     "name": "#%%\n"
    }
   },
   "outputs": [
    {
     "ename": "TypeError",
     "evalue": "adaptive_mutation() takes 2 positional arguments but 3 were given",
     "output_type": "error",
     "traceback": [
      "\u001B[1;31m---------------------------------------------------------------------------\u001B[0m",
      "\u001B[1;31mTypeError\u001B[0m                                 Traceback (most recent call last)",
      "Input \u001B[1;32mIn [4]\u001B[0m, in \u001B[0;36m<cell line: 36>\u001B[1;34m()\u001B[0m\n\u001B[0;32m     31\u001B[0m     \u001B[38;5;28;01mreturn\u001B[39;00m total_length\n\u001B[0;32m     33\u001B[0m \u001B[38;5;66;03m# 在您的遗传算法函数内部直接使用上面定义的 fitness_vertical_coverage\u001B[39;00m\n\u001B[0;32m     34\u001B[0m \u001B[38;5;66;03m# 这里假定您的遗传算法函数名为 enhanced_genetic_algorithm\u001B[39;00m\n\u001B[0;32m     35\u001B[0m \u001B[38;5;66;03m# 如果您的函数名不同，请做相应的修改\u001B[39;00m\n\u001B[1;32m---> 36\u001B[0m best_solution_vertical \u001B[38;5;241m=\u001B[39m \u001B[43menhanced_genetic_algorithm\u001B[49m\u001B[43m(\u001B[49m\u001B[43m)\u001B[49m\n\u001B[0;32m     38\u001B[0m best_solution_vertical\n",
      "Input \u001B[1;32mIn [1]\u001B[0m, in \u001B[0;36menhanced_genetic_algorithm\u001B[1;34m()\u001B[0m\n\u001B[0;32m     76\u001B[0m         \u001B[38;5;66;03m# 自适应变异\u001B[39;00m\n\u001B[0;32m     77\u001B[0m         \u001B[38;5;28;01mfor\u001B[39;00m chromo \u001B[38;5;129;01min\u001B[39;00m new_population[\u001B[38;5;241m-\u001B[39m\u001B[38;5;241m2\u001B[39m:]:\n\u001B[1;32m---> 78\u001B[0m             \u001B[43madaptive_mutation\u001B[49m\u001B[43m(\u001B[49m\u001B[43mchromo\u001B[49m\u001B[43m,\u001B[49m\u001B[43m \u001B[49m\u001B[43mfitness\u001B[49m\u001B[43m(\u001B[49m\u001B[43mchromo\u001B[49m\u001B[43m)\u001B[49m\u001B[43m,\u001B[49m\u001B[43m \u001B[49m\u001B[43mfitness_values\u001B[49m\u001B[43m)\u001B[49m\n\u001B[0;32m     80\u001B[0m     population \u001B[38;5;241m=\u001B[39m np\u001B[38;5;241m.\u001B[39marray(new_population)\n\u001B[0;32m     82\u001B[0m \u001B[38;5;28;01mreturn\u001B[39;00m population[np\u001B[38;5;241m.\u001B[39margmax([fitness(chromo) \u001B[38;5;28;01mfor\u001B[39;00m chromo \u001B[38;5;129;01min\u001B[39;00m population])]\n",
      "\u001B[1;31mTypeError\u001B[0m: adaptive_mutation() takes 2 positional arguments but 3 were given"
     ]
    }
   ],
   "source": [
    "import numpy as np\n",
    "\n",
    "# 定义参数\n",
    "length = 5 * 1852  # 海域长度（南北方向），单位为米\n",
    "D_center = 110  # 海域中心的深度，单位为米\n",
    "theta = np.radians(120)  # 换能器开角，单位为弧度\n",
    "alpha = np.radians(1.5)  # 坡度，单位为弧度\n",
    "\n",
    "# 根据给定的重叠率计算最小和最大的测线间距\n",
    "d_min = 2 * D_center * np.tan(theta / 2) * (1 - 0.2)\n",
    "d_max = 2 * D_center * np.tan(theta / 2) * (1 - 0.1)\n",
    "\n",
    "# 定义适应度函数\n",
    "def fitness_vertical_coverage(chromosome):\n",
    "    total_length = 0\n",
    "    last_line = 0\n",
    "    for line in chromosome:\n",
    "        # 计算当前测线的海水深度\n",
    "        D = D_center - abs(line - length/2) * np.tan(alpha)\n",
    "        coverage_length = 2 * D * np.tan(theta/2)\n",
    "        overlap = coverage_length - (line - last_line)\n",
    "        if overlap < d_min or overlap > d_max:\n",
    "            return 0  # 无效的解\n",
    "        total_length += line - last_line\n",
    "        last_line = line\n",
    "\n",
    "    # 如果最后一个测线没有覆盖到北端，适应度为0\n",
    "    if last_line + coverage_length < length:\n",
    "        return 0\n",
    "\n",
    "    return total_length\n",
    "\n",
    "# 在您的遗传算法函数内部直接使用上面定义的 fitness_vertical_coverage\n",
    "# 这里假定您的遗传算法函数名为 enhanced_genetic_algorithm\n",
    "# 如果您的函数名不同，请做相应的修改\n",
    "best_solution_vertical = enhanced_genetic_algorithm()\n",
    "\n",
    "best_solution_vertical\n"
   ]
  },
  {
   "cell_type": "code",
   "execution_count": 6,
   "metadata": {
    "pycharm": {
     "name": "#%%\n"
    }
   },
   "outputs": [
    {
     "name": "stderr",
     "output_type": "stream",
     "text": [
      "C:\\Users\\Mr.balado\\AppData\\Local\\Temp\\ipykernel_13400\\2103560911.py:4: MatplotlibDeprecationWarning: The seaborn styles shipped by Matplotlib are deprecated since 3.6, as they no longer correspond to the styles shipped by seaborn. However, they will remain available as 'seaborn-v0_8-<style>'. Alternatively, directly use the seaborn API instead.\n",
      "  plt.style.use('seaborn-whitegrid')\n"
     ]
    },
    {
     "data": {
      "image/png": "[encoded data removed]",
      "text/plain": [
       "<Figure size 640x480 with 1 Axes>"
      ]
     },
     "metadata": {},
     "output_type": "display_data"
    }
   ],
   "source": [
    "import matplotlib.pyplot as plt\n",
    "\n",
    "# 设置图形样式\n",
    "plt.style.use('seaborn-whitegrid')\n",
    "\n",
    "# 绘制点线图\n",
    "plt.plot(best_solution_continuous_coverage, best_solution_continuous_coverage2, marker='o', color='blue', linestyle='-', linewidth=2)\n",
    "plt.xlabel('X')\n",
    "plt.ylabel('Y')\n",
    "\n",
    "\n",
    "# 添加网格线\n",
    "plt.grid(True, linestyle='--', alpha=0.5)\n",
    "\n",
    "# 调整坐标轴范围\n",
    "plt.xlim(min(best_solution_continuous_coverage), max(best_solution_continuous_coverage))\n",
    "plt.ylim(min(best_solution_continuous_coverage2), max(best_solution_continuous_coverage2))\n",
    "\n",
    "# 显示图形\n",
    "plt.show()"
   ]
  }
 ],
 "metadata": {
  "kernelspec": {
   "display_name": "Python 3 (ipykernel)",
   "language": "python",
   "name": "python3"
  },
  "language_info": {
   "codemirror_mode": {
    "name": "ipython",
    "version": 3
   },
   "file_extension": ".py",
   "mimetype": "text/x-python",
   "name": "python",
   "nbconvert_exporter": "python",
   "pygments_lexer": "ipython3",
   "version": "3.9.12"
  }
 },
 "nbformat": 4,
 "nbformat_minor": 2
}